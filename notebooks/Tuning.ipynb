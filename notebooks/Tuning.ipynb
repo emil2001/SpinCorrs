{
 "cells": [
  {
   "cell_type": "code",
   "execution_count": 5,
   "id": "ce6d453f-b26d-4da6-9f13-cdab346c6c41",
   "metadata": {
    "execution": {
     "iopub.execute_input": "2024-11-13T17:41:04.824909Z",
     "iopub.status.busy": "2024-11-13T17:41:04.823796Z",
     "iopub.status.idle": "2024-11-13T17:41:04.843473Z",
     "shell.execute_reply": "2024-11-13T17:41:04.842669Z",
     "shell.execute_reply.started": "2024-11-13T17:41:04.824863Z"
    },
    "tags": []
   },
   "outputs": [],
   "source": [
    "import torch\n",
    "import uproot\n",
    "import random\n",
    "import os\n",
    "import matplotlib.pyplot as plt\n",
    "import pandas as pd\n",
    "import numpy as np\n",
    "from sklearn.model_selection import train_test_split\n",
    "from sklearn.preprocessing import StandardScaler\n",
    "from torch.utils.data import Dataset, DataLoader\n",
    "from tqdm.notebook import tqdm\n",
    "import lightning as L"
   ]
  },
  {
   "cell_type": "code",
   "execution_count": 6,
   "id": "f775f802-6561-4b88-80d3-8b0f51fc3942",
   "metadata": {
    "execution": {
     "iopub.execute_input": "2024-11-13T17:41:05.169698Z",
     "iopub.status.busy": "2024-11-13T17:41:05.168696Z",
     "iopub.status.idle": "2024-11-13T17:41:05.207509Z",
     "shell.execute_reply": "2024-11-13T17:41:05.206719Z",
     "shell.execute_reply.started": "2024-11-13T17:41:05.169654Z"
    },
    "tags": []
   },
   "outputs": [
    {
     "name": "stderr",
     "output_type": "stream",
     "text": [
      "Seed set to 42\n"
     ]
    }
   ],
   "source": [
    "# basic random seed\n",
    "def seed_basic(seed=42):\n",
    "    random.seed(seed)\n",
    "    os.environ[\"PYTHONHASHSEED\"] = str(seed)\n",
    "    np.random.seed(seed)\n",
    "\n",
    "\n",
    "# torch random seed\n",
    "def seed_torch(seed=42):\n",
    "    torch.manual_seed(seed)\n",
    "    torch.cuda.manual_seed(seed)\n",
    "    torch.backends.cudnn.deterministic = True\n",
    "    torch.backends.cudnn.benchmark = False\n",
    "\n",
    "\n",
    "# basic + torch + lightning\n",
    "def seed_everything(seed=42):\n",
    "    seed_basic(seed)\n",
    "    seed_torch(seed)\n",
    "    L.seed_everything(seed)\n",
    "\n",
    "\n",
    "seed_everything()"
   ]
  },
  {
   "cell_type": "code",
   "execution_count": 7,
   "id": "30baed42-6f98-4e4f-b3ad-214717418789",
   "metadata": {
    "execution": {
     "iopub.execute_input": "2024-11-13T17:41:05.492764Z",
     "iopub.status.busy": "2024-11-13T17:41:05.491792Z",
     "iopub.status.idle": "2024-11-13T17:41:05.523813Z",
     "shell.execute_reply": "2024-11-13T17:41:05.522969Z",
     "shell.execute_reply.started": "2024-11-13T17:41:05.492720Z"
    },
    "tags": []
   },
   "outputs": [
    {
     "name": "stdout",
     "output_type": "stream",
     "text": [
      "cuda\n"
     ]
    }
   ],
   "source": [
    "device = torch.device('cuda' if torch.cuda.is_available() else 'cpu')\n",
    "print(device)"
   ]
  },
  {
   "cell_type": "code",
   "execution_count": 8,
   "id": "c6c2fc56-61b7-438e-b504-6b664c47e201",
   "metadata": {
    "execution": {
     "iopub.execute_input": "2024-11-13T17:41:05.809553Z",
     "iopub.status.busy": "2024-11-13T17:41:05.808682Z",
     "iopub.status.idle": "2024-11-13T17:41:14.434594Z",
     "shell.execute_reply": "2024-11-13T17:41:14.433802Z",
     "shell.execute_reply.started": "2024-11-13T17:41:05.809511Z"
    },
    "tags": []
   },
   "outputs": [],
   "source": [
    "file_sm = uproot.open(\"../data/SM.root\")\n",
    "file = uproot.open(\"../data/DM.root\")\n",
    "\n",
    "df_DM = file['LHE'].arrays(file['LHE'].keys(), library=\"pd\")\n",
    "df_SM = file_sm['LHE'].arrays(file_sm['LHE'].keys(), library=\"pd\")\n",
    "df_SM['M_phi'] = np.sqrt(df_SM['E_phi']**2 - (df_SM['p_phi_x']**2 + df_SM['p_phi_y']**2 + df_SM['p_phi_z']**2))\n",
    "df_DM['M_phi'] = np.sqrt(df_DM['E_phi']**2 - (df_DM['p_phi_x']**2 + df_DM['p_phi_y']**2 + df_DM['p_phi_z']**2))\n",
    "\n",
    "train_raw_SM, test_raw_SM = train_test_split(df_SM, test_size=0.2)\n",
    "train_raw_SM, val_raw_SM = train_test_split(train_raw_SM, test_size=0.2)\n",
    "\n",
    "train_raw_DM, test_raw_DM = train_test_split(df_DM, test_size=0.2)\n",
    "train_raw_DM, val_raw_DM = train_test_split(train_raw_DM, test_size=0.2)\n",
    "\n",
    "train_raw = pd.concat([train_raw_SM, train_raw_DM], axis=0) # We use the 1/1 mix of SM and DM datasets for training\n",
    "val_raw = pd.concat([val_raw_SM, val_raw_DM], axis=0)\n",
    "test_raw = pd.concat([test_raw_SM, test_raw_DM], axis=0)"
   ]
  },
  {
   "cell_type": "code",
   "execution_count": 9,
   "id": "f931df7e-fb77-4109-b14e-04bb100a46d0",
   "metadata": {
    "execution": {
     "iopub.execute_input": "2024-11-13T17:41:14.437725Z",
     "iopub.status.busy": "2024-11-13T17:41:14.436076Z",
     "iopub.status.idle": "2024-11-13T17:41:14.449124Z",
     "shell.execute_reply": "2024-11-13T17:41:14.448321Z",
     "shell.execute_reply.started": "2024-11-13T17:41:14.437666Z"
    },
    "tags": []
   },
   "outputs": [],
   "source": [
    "y_vars = ['p_nu_x', 'p_nu_y', 'p_nu_z', 'p_phi_x', 'p_phi_y', 'p_phi_z']\n",
    "X_vars = ['p_l_x', 'p_l_y', 'p_l_z', 'p_b_x', 'p_b_y', 'p_b_z', 'p_q_x', 'p_q_y',\n",
    "          'p_q_z', 'MET_x', 'MET_y', 'MET_z', 'Pt_Lep', 'Eta_Lep', 'Pt_J1', 'Eta_J1',\n",
    "          'Pt_J2', 'Eta_J2', 'Pt_W', 'Eta_W', 'Pt_top', 'Eta_top', 'mW_inv', 'mtop_inv',\n",
    "          'MtW', 'MtT', 'SP_LepB', 'SP_LepQ', 'SP_QB', 'SP_LepNu', 'SP_BNu', 'SP_QNu',\n",
    "          'Ht', 'S_hat', 'Dphi_LepQ', 'Dphi_LepNu', 'Dphi_Wb', 'DR_LepQ', 'DR_LepNu', 'DR_Wb']"
   ]
  },
  {
   "cell_type": "code",
   "execution_count": 10,
   "id": "1ea5228f-23c6-432a-91b5-6af5e81d3e8a",
   "metadata": {
    "execution": {
     "iopub.execute_input": "2024-11-13T17:41:14.450818Z",
     "iopub.status.busy": "2024-11-13T17:41:14.450250Z",
     "iopub.status.idle": "2024-11-13T17:41:16.009193Z",
     "shell.execute_reply": "2024-11-13T17:41:16.008405Z",
     "shell.execute_reply.started": "2024-11-13T17:41:14.450782Z"
    },
    "tags": []
   },
   "outputs": [],
   "source": [
    "scaler_y = StandardScaler()\n",
    "scaler_y.fit(np.array(train_raw[y_vars]))\n",
    "scaler_X = StandardScaler()\n",
    "scaler_X.fit(np.array(train_raw[X_vars]))\n",
    "\n",
    "X_train_df = pd.DataFrame(scaler_X.transform(np.array(train_raw[X_vars])), columns=X_vars)\n",
    "X_val_df = pd.DataFrame(scaler_X.transform(np.array(val_raw[X_vars])), columns=X_vars)\n",
    "X_test_df = pd.DataFrame(scaler_X.transform(np.array(test_raw[X_vars])), columns=X_vars)\n",
    "\n",
    "y_train_df = pd.DataFrame(scaler_y.transform(np.array(train_raw[y_vars])), columns=y_vars)\n",
    "y_val_df = pd.DataFrame(scaler_y.transform(np.array(val_raw[y_vars])), columns=y_vars)\n",
    "y_test_df = pd.DataFrame(scaler_y.transform(np.array(test_raw[y_vars])), columns=y_vars)"
   ]
  },
  {
   "cell_type": "code",
   "execution_count": 11,
   "id": "5c01e74f-af07-4711-b199-3d22df2bc8dc",
   "metadata": {
    "execution": {
     "iopub.execute_input": "2024-11-13T17:41:16.012478Z",
     "iopub.status.busy": "2024-11-13T17:41:16.011458Z",
     "iopub.status.idle": "2024-11-13T17:41:16.026253Z",
     "shell.execute_reply": "2024-11-13T17:41:16.025461Z",
     "shell.execute_reply.started": "2024-11-13T17:41:16.012447Z"
    },
    "tags": []
   },
   "outputs": [],
   "source": [
    "from torch.utils.data import Dataset, DataLoader\n",
    "\n",
    "\n",
    "class CustomDataset(Dataset):\n",
    "    def __init__(\n",
    "        self,\n",
    "        input_values,\n",
    "        labels,\n",
    "        transforms=None,\n",
    "    ):\n",
    "        self.input_values = torch.from_numpy(input_values).type(torch.FloatTensor)\n",
    "        self.labels = torch.from_numpy(labels).type(torch.FloatTensor)\n",
    "        self.transforms = transforms\n",
    "\n",
    "    def __len__(self):\n",
    "        return len(self.labels)\n",
    "\n",
    "    def __getitem__(self, idx):\n",
    "        if self.transforms:\n",
    "            input_value = self.transforms(self.input_values[idx])\n",
    "        else:\n",
    "            input_value = self.input_values[idx]\n",
    "        label = self.labels[idx]\n",
    "        return input_value, label"
   ]
  },
  {
   "cell_type": "code",
   "execution_count": 12,
   "id": "a673620c-3241-4103-95af-7d61f585315b",
   "metadata": {
    "execution": {
     "iopub.execute_input": "2024-11-13T17:41:16.027911Z",
     "iopub.status.busy": "2024-11-13T17:41:16.027368Z",
     "iopub.status.idle": "2024-11-13T17:41:16.123604Z",
     "shell.execute_reply": "2024-11-13T17:41:16.122880Z",
     "shell.execute_reply.started": "2024-11-13T17:41:16.027874Z"
    },
    "tags": []
   },
   "outputs": [],
   "source": [
    "train_set = CustomDataset(X_train_df.values, y_train_df.values)\n",
    "val_set = CustomDataset(X_val_df.values, y_val_df.values)\n",
    "test_set = CustomDataset(X_test_df.values, y_test_df.values)\n",
    "\n",
    "train_loader = torch.utils.data.DataLoader(\n",
    "    train_set, batch_size=1024, shuffle=True, num_workers = 4\n",
    ")\n",
    "val_loader = torch.utils.data.DataLoader(\n",
    "    val_set, batch_size=1024, shuffle=False, num_workers = 4\n",
    ")\n",
    "test_loader = torch.utils.data.DataLoader(\n",
    "    test_set, batch_size=1024, shuffle=False, num_workers = 4\n",
    ")"
   ]
  },
  {
   "cell_type": "code",
   "execution_count": 13,
   "id": "6dc6dbcb-1de9-44fc-bbb8-f72b2a4a9a98",
   "metadata": {
    "execution": {
     "iopub.execute_input": "2024-11-13T17:41:16.125506Z",
     "iopub.status.busy": "2024-11-13T17:41:16.124652Z",
     "iopub.status.idle": "2024-11-13T17:41:16.187640Z",
     "shell.execute_reply": "2024-11-13T17:41:16.186857Z",
     "shell.execute_reply.started": "2024-11-13T17:41:16.125469Z"
    },
    "tags": []
   },
   "outputs": [],
   "source": [
    "import sys\n",
    "sys.path.append('../src/')\n",
    "import torch.nn as nn\n",
    "import torch.nn.functional as F\n",
    "import sc_models\n",
    "from torchmetrics.regression import MeanSquaredError, MeanAbsoluteError"
   ]
  },
  {
   "cell_type": "code",
   "execution_count": 14,
   "id": "898d22fa-1672-439a-b6c6-70766a50857c",
   "metadata": {
    "execution": {
     "iopub.execute_input": "2024-11-13T17:41:16.189351Z",
     "iopub.status.busy": "2024-11-13T17:41:16.188657Z",
     "iopub.status.idle": "2024-11-13T17:41:16.206637Z",
     "shell.execute_reply": "2024-11-13T17:41:16.205880Z",
     "shell.execute_reply.started": "2024-11-13T17:41:16.189313Z"
    },
    "tags": []
   },
   "outputs": [],
   "source": [
    "class LModel_NF(L.LightningModule):\n",
    "    def __init__(\n",
    "            self, model, lr=1e-3,\n",
    "        ):\n",
    "        super().__init__()\n",
    "        self.model = model\n",
    "        self.criterion = nn.L1Loss()\n",
    "        self.train_acc = MeanAbsoluteError()\n",
    "        self.valid_acc = MeanAbsoluteError()\n",
    "        self.test_acc = MeanAbsoluteError()\n",
    "        self.lr = lr\n",
    "\n",
    "    def configure_optimizers(self):\n",
    "        optimizer = torch.optim.AdamW(self.model.parameters(), lr = self.lr)\n",
    "        scheduler = torch.optim.lr_scheduler.ReduceLROnPlateau(optimizer, factor = 0.1, min_lr = 1e-5)\n",
    "        return {\n",
    "            \"optimizer\": optimizer,\n",
    "            \"lr_scheduler\": {\n",
    "                \"scheduler\": scheduler,\n",
    "                \"interval\": \"epoch\",\n",
    "                \"monitor\": \"loss/val\", \n",
    "            },\n",
    "        }\n",
    "    def training_step(self, batch, batch_idx):\n",
    "        x, y = batch\n",
    "        out = -self.model.log_prob(inputs=y, context=x)\n",
    "        loss = -self.model.log_prob(inputs=y, context=x).mean()\n",
    "        self.log(\"loss/train\", loss.detach().item(), prog_bar=True)\n",
    "        return loss\n",
    "\n",
    "    def validation_step(self, batch, batch_idx):\n",
    "        x, y = batch\n",
    "        out = -self.model.log_prob(inputs=y, context=x)\n",
    "        loss = -self.model.log_prob(inputs=y, context=x).mean()\n",
    "        self.log(\"loss/val\", loss.detach().item())"
   ]
  },
  {
   "cell_type": "code",
   "execution_count": 15,
   "id": "d14614fe-20e9-4f1c-85b0-8b2d4db89237",
   "metadata": {
    "execution": {
     "iopub.execute_input": "2024-11-13T17:41:16.208148Z",
     "iopub.status.busy": "2024-11-13T17:41:16.207592Z",
     "iopub.status.idle": "2024-11-13T17:41:16.225144Z",
     "shell.execute_reply": "2024-11-13T17:41:16.224393Z",
     "shell.execute_reply.started": "2024-11-13T17:41:16.208111Z"
    },
    "tags": []
   },
   "outputs": [],
   "source": [
    "from lightning.pytorch.callbacks import ModelCheckpoint, EarlyStopping\n",
    "import warnings\n",
    "warnings.filterwarnings(\"ignore\")\n",
    "\n",
    "def create_trainer(name, max_epochs = 10):\n",
    "    torch.set_float32_matmul_precision('medium')\n",
    "    trainer = L.Trainer(\n",
    "        max_epochs=max_epochs,\n",
    "        num_sanity_val_steps=1,\n",
    "        log_every_n_steps=10,\n",
    "        enable_checkpointing = False,\n",
    "        enable_model_summary = False,\n",
    "        enable_progress_bar = False,\n",
    "        callbacks=[EarlyStopping(monitor=\"loss/val\", mode=\"min\", patience = 2)],\n",
    "    )\n",
    "    return trainer"
   ]
  },
  {
   "cell_type": "code",
   "execution_count": 16,
   "id": "53f4d1a2-58df-48ab-a01e-cbb25789179b",
   "metadata": {
    "execution": {
     "iopub.execute_input": "2024-11-13T17:41:16.227153Z",
     "iopub.status.busy": "2024-11-13T17:41:16.226336Z",
     "iopub.status.idle": "2024-11-13T17:41:16.790540Z",
     "shell.execute_reply": "2024-11-13T17:41:16.789648Z",
     "shell.execute_reply.started": "2024-11-13T17:41:16.227115Z"
    },
    "tags": []
   },
   "outputs": [],
   "source": [
    "import sc_misc\n",
    "Cos_lep_light_true, _ = sc_misc.calculate_cosine_theory(val_raw_DM[X_vars], val_raw_DM[y_vars])"
   ]
  },
  {
   "cell_type": "code",
   "execution_count": null,
   "id": "8501f7d0-23f3-4211-b681-eab220347d94",
   "metadata": {
    "execution": {
     "iopub.execute_input": "2024-11-13T17:49:37.564112Z",
     "iopub.status.busy": "2024-11-13T17:49:37.563026Z"
    },
    "tags": []
   },
   "outputs": [
    {
     "name": "stderr",
     "output_type": "stream",
     "text": [
      "[I 2024-11-13 17:49:37,616] A new study created in memory with name: no-name-23621fb3-50f3-40e1-88da-8f3601f683f4\n",
      "GPU available: True (cuda), used: True\n",
      "TPU available: False, using: 0 TPU cores\n",
      "HPU available: False, using: 0 HPUs\n",
      "LOCAL_RANK: 0 - CUDA_VISIBLE_DEVICES: [0]\n",
      "`Trainer.fit` stopped: `max_epochs=5` reached.\n",
      "[I 2024-11-13 17:55:40,001] Trial 0 finished with value: 419.9152697469213 and parameters: {'context_size': 35, 'num_layers': 3, 'spline_layer': 109, 'spline_num_layers': 5}. Best is trial 0 with value: 419.9152697469213.\n",
      "GPU available: True (cuda), used: True\n",
      "TPU available: False, using: 0 TPU cores\n",
      "HPU available: False, using: 0 HPUs\n",
      "LOCAL_RANK: 0 - CUDA_VISIBLE_DEVICES: [0]\n",
      "`Trainer.fit` stopped: `max_epochs=5` reached.\n",
      "[I 2024-11-13 18:06:33,113] Trial 1 finished with value: 732.5860076915831 and parameters: {'context_size': 24, 'num_layers': 6, 'spline_layer': 252, 'spline_num_layers': 3}. Best is trial 0 with value: 419.9152697469213.\n",
      "GPU available: True (cuda), used: True\n",
      "TPU available: False, using: 0 TPU cores\n",
      "HPU available: False, using: 0 HPUs\n",
      "LOCAL_RANK: 0 - CUDA_VISIBLE_DEVICES: [0]\n",
      "`Trainer.fit` stopped: `max_epochs=5` reached.\n",
      "[I 2024-11-13 18:17:41,323] Trial 2 finished with value: 1550.3696986590621 and parameters: {'context_size': 57, 'num_layers': 6, 'spline_layer': 58, 'spline_num_layers': 4}. Best is trial 0 with value: 419.9152697469213.\n",
      "GPU available: True (cuda), used: True\n",
      "TPU available: False, using: 0 TPU cores\n",
      "HPU available: False, using: 0 HPUs\n",
      "LOCAL_RANK: 0 - CUDA_VISIBLE_DEVICES: [0]\n"
     ]
    }
   ],
   "source": [
    "import optuna\n",
    "from scipy.stats import chisquare\n",
    "\n",
    "X_val_DM = pd.DataFrame(scaler_X.transform(np.array(val_raw_DM[X_vars])), columns=X_vars)\n",
    "mean_absolute_error = MeanAbsoluteError()\n",
    "def objective(trial):\n",
    "    _context_size = trial.suggest_int('context_size', 8, 64)\n",
    "    _num_layers = trial.suggest_int('num_layers', 3, 7)\n",
    "    _spline_layer = trial.suggest_int('spline_layer', 32, 256)\n",
    "    _spline_num_layers = trial.suggest_int('spline_num_layers', 2, 5)\n",
    "    \n",
    "    nu_flow = sc_models.Nu_flow(encoder = sc_models.DeepSet(len(X_vars), _context_size), target_size = len(y_vars), \n",
    "                            masking_order = [1, 1, -1, 1, 1, -1],  # masking is done for (x,y) <-> z for neutrino and mediator\n",
    "                            num_layers = _num_layers, context_size = _context_size, spline_conf = (_spline_layer, _spline_num_layers, 0.1))\n",
    "    \n",
    "    pl_model_nu_flow = LModel_NF(nu_flow)\n",
    "    trainer = create_trainer(\"nu_flow\", max_epochs = 5)\n",
    "    trainer.fit(\n",
    "        model=pl_model_nu_flow,\n",
    "        train_dataloaders=train_loader,\n",
    "        val_dataloaders=val_loader\n",
    "    )\n",
    "    \n",
    "    with torch.no_grad():\n",
    "        nu_flow = nu_flow.to(device)\n",
    "        pred_nuflows, _ = torch.median(nu_flow.sample(num_samples = 5, context = torch.tensor(X_val_DM.values, dtype = torch.float32).to(device)), 1)\n",
    "        pred_nuflows = scaler_y.inverse_transform(pred_nuflows.cpu())\n",
    "    Cos_lep_light_mixed_DM, _ = sc_misc.calculate_cosine(pred_nuflows, val_raw_DM[X_vars])\n",
    "    pred_hist = np.histogram(Cos_lep_light_mixed_DM, bins = 50)[0]\n",
    "    true_hist = np.histogram(Cos_lep_light_true, bins = 50)[0]\n",
    "                                    \n",
    "    return chisquare(pred_hist, true_hist)[0]\n",
    "\n",
    "study = optuna.create_study()\n",
    "study.optimize(objective, n_trials = 50)"
   ]
  },
  {
   "cell_type": "code",
   "execution_count": null,
   "id": "41cfa24e-1b58-4ded-8372-8a8ccaffc55c",
   "metadata": {
    "tags": []
   },
   "outputs": [],
   "source": [
    "study.best_params"
   ]
  },
  {
   "cell_type": "code",
   "execution_count": null,
   "id": "6bc7b28c-303e-4fac-81d4-73ef2ecb62e9",
   "metadata": {},
   "outputs": [],
   "source": [
    "trials_df = study.trials_dataframe()\n",
    "trials_df"
   ]
  },
  {
   "cell_type": "code",
   "execution_count": null,
   "id": "011e6c01-a47a-4758-b518-403fa6690aed",
   "metadata": {},
   "outputs": [],
   "source": [
    "trials_df.to_csv(\"tuning.csv\")"
   ]
  },
  {
   "cell_type": "code",
   "execution_count": null,
   "id": "5cf6f91a-7ec5-4158-93ed-3364d80ae620",
   "metadata": {},
   "outputs": [],
   "source": []
  }
 ],
 "metadata": {
  "kernelspec": {
   "display_name": "DataSphere Kernel",
   "language": "python",
   "name": "python3"
  },
  "language_info": {
   "codemirror_mode": {
    "name": "ipython",
    "version": 3
   },
   "file_extension": ".py",
   "mimetype": "text/x-python",
   "name": "python",
   "nbconvert_exporter": "python",
   "pygments_lexer": "ipython3",
   "version": "3.10.12"
  }
 },
 "nbformat": 4,
 "nbformat_minor": 5
}
