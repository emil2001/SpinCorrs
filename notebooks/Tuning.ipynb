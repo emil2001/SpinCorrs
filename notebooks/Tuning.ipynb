{
 "cells": [
  {
   "cell_type": "code",
   "execution_count": 1,
   "id": "ce6d453f-b26d-4da6-9f13-cdab346c6c41",
   "metadata": {
    "execution": {
     "iopub.execute_input": "2024-11-13T08:06:49.969683Z",
     "iopub.status.busy": "2024-11-13T08:06:49.968651Z",
     "iopub.status.idle": "2024-11-13T08:07:03.538194Z",
     "shell.execute_reply": "2024-11-13T08:07:03.537145Z",
     "shell.execute_reply.started": "2024-11-13T08:06:49.969639Z"
    },
    "tags": []
   },
   "outputs": [],
   "source": [
    "import torch\n",
    "import uproot\n",
    "import random\n",
    "import os\n",
    "import matplotlib.pyplot as plt\n",
    "import pandas as pd\n",
    "import numpy as np\n",
    "from sklearn.model_selection import train_test_split\n",
    "from sklearn.preprocessing import StandardScaler\n",
    "from torch.utils.data import Dataset, DataLoader\n",
    "from tqdm.notebook import tqdm\n",
    "import lightning as L"
   ]
  },
  {
   "cell_type": "code",
   "execution_count": 2,
   "id": "f775f802-6561-4b88-80d3-8b0f51fc3942",
   "metadata": {
    "execution": {
     "iopub.execute_input": "2024-11-13T08:07:03.541068Z",
     "iopub.status.busy": "2024-11-13T08:07:03.540115Z",
     "iopub.status.idle": "2024-11-13T08:07:03.588606Z",
     "shell.execute_reply": "2024-11-13T08:07:03.587761Z",
     "shell.execute_reply.started": "2024-11-13T08:07:03.541029Z"
    },
    "tags": []
   },
   "outputs": [
    {
     "name": "stderr",
     "output_type": "stream",
     "text": [
      "Seed set to 42\n"
     ]
    }
   ],
   "source": [
    "# basic random seed\n",
    "def seed_basic(seed=42):\n",
    "    random.seed(seed)\n",
    "    os.environ[\"PYTHONHASHSEED\"] = str(seed)\n",
    "    np.random.seed(seed)\n",
    "\n",
    "\n",
    "# torch random seed\n",
    "def seed_torch(seed=42):\n",
    "    torch.manual_seed(seed)\n",
    "    torch.cuda.manual_seed(seed)\n",
    "    torch.backends.cudnn.deterministic = True\n",
    "    torch.backends.cudnn.benchmark = False\n",
    "\n",
    "\n",
    "# basic + torch + lightning\n",
    "def seed_everything(seed=42):\n",
    "    seed_basic(seed)\n",
    "    seed_torch(seed)\n",
    "    L.seed_everything(seed)\n",
    "\n",
    "\n",
    "seed_everything()"
   ]
  },
  {
   "cell_type": "code",
   "execution_count": 3,
   "id": "30baed42-6f98-4e4f-b3ad-214717418789",
   "metadata": {
    "execution": {
     "iopub.execute_input": "2024-11-13T08:07:03.590535Z",
     "iopub.status.busy": "2024-11-13T08:07:03.589474Z",
     "iopub.status.idle": "2024-11-13T08:07:03.645996Z",
     "shell.execute_reply": "2024-11-13T08:07:03.645173Z",
     "shell.execute_reply.started": "2024-11-13T08:07:03.590499Z"
    },
    "tags": []
   },
   "outputs": [
    {
     "name": "stdout",
     "output_type": "stream",
     "text": [
      "cuda\n"
     ]
    }
   ],
   "source": [
    "device = torch.device('cuda' if torch.cuda.is_available() else 'cpu')\n",
    "print(device)"
   ]
  },
  {
   "cell_type": "code",
   "execution_count": 4,
   "id": "c6c2fc56-61b7-438e-b504-6b664c47e201",
   "metadata": {
    "execution": {
     "iopub.execute_input": "2024-11-13T08:07:03.649907Z",
     "iopub.status.busy": "2024-11-13T08:07:03.648468Z",
     "iopub.status.idle": "2024-11-13T08:07:50.912139Z",
     "shell.execute_reply": "2024-11-13T08:07:50.911288Z",
     "shell.execute_reply.started": "2024-11-13T08:07:03.649864Z"
    },
    "tags": []
   },
   "outputs": [],
   "source": [
    "file_sm = uproot.open(\"../data/SM.root\")\n",
    "file = uproot.open(\"../data/DM.root\")\n",
    "\n",
    "df_DM = file['LHE'].arrays(file['LHE'].keys(), library=\"pd\")\n",
    "df_SM = file_sm['LHE'].arrays(file_sm['LHE'].keys(), library=\"pd\")\n",
    "df_SM['M_phi'] = np.sqrt(df_SM['E_phi']**2 - (df_SM['p_phi_x']**2 + df_SM['p_phi_y']**2 + df_SM['p_phi_z']**2))\n",
    "df_DM['M_phi'] = np.sqrt(df_DM['E_phi']**2 - (df_DM['p_phi_x']**2 + df_DM['p_phi_y']**2 + df_DM['p_phi_z']**2))\n",
    "\n",
    "train_raw_SM, test_raw_SM = train_test_split(df_SM, test_size=0.2)\n",
    "train_raw_SM, val_raw_SM = train_test_split(train_raw_SM, test_size=0.2)\n",
    "\n",
    "train_raw_DM, test_raw_DM = train_test_split(df_DM, test_size=0.2)\n",
    "train_raw_DM, val_raw_DM = train_test_split(train_raw_DM, test_size=0.2)\n",
    "\n",
    "train_raw = pd.concat([train_raw_SM, train_raw_DM], axis=0) # We use the 1/1 mix of SM and DM datasets for training\n",
    "val_raw = pd.concat([val_raw_SM, val_raw_DM], axis=0)\n",
    "test_raw = pd.concat([test_raw_SM, test_raw_DM], axis=0)"
   ]
  },
  {
   "cell_type": "code",
   "execution_count": 5,
   "id": "f931df7e-fb77-4109-b14e-04bb100a46d0",
   "metadata": {
    "execution": {
     "iopub.execute_input": "2024-11-13T08:07:50.914876Z",
     "iopub.status.busy": "2024-11-13T08:07:50.913122Z",
     "iopub.status.idle": "2024-11-13T08:07:50.955057Z",
     "shell.execute_reply": "2024-11-13T08:07:50.954295Z",
     "shell.execute_reply.started": "2024-11-13T08:07:50.914835Z"
    },
    "tags": []
   },
   "outputs": [],
   "source": [
    "y_vars = ['p_nu_x', 'p_nu_y', 'p_nu_z', 'p_phi_x', 'p_phi_y', 'p_phi_z']\n",
    "X_vars = ['p_l_x', 'p_l_y', 'p_l_z', 'p_b_x', 'p_b_y', 'p_b_z', 'p_q_x', 'p_q_y',\n",
    "          'p_q_z', 'MET_x', 'MET_y', 'MET_z', 'Pt_Lep', 'Eta_Lep', 'Pt_J1', 'Eta_J1',\n",
    "          'Pt_J2', 'Eta_J2', 'Pt_W', 'Eta_W', 'Pt_top', 'Eta_top', 'mW_inv', 'mtop_inv',\n",
    "          'MtW', 'MtT', 'SP_LepB', 'SP_LepQ', 'SP_QB', 'SP_LepNu', 'SP_BNu', 'SP_QNu',\n",
    "          'Ht', 'S_hat', 'Dphi_LepQ', 'Dphi_LepNu', 'Dphi_Wb', 'DR_LepQ', 'DR_LepNu', 'DR_Wb']"
   ]
  },
  {
   "cell_type": "code",
   "execution_count": 6,
   "id": "1ea5228f-23c6-432a-91b5-6af5e81d3e8a",
   "metadata": {
    "execution": {
     "iopub.execute_input": "2024-11-13T08:07:50.956334Z",
     "iopub.status.busy": "2024-11-13T08:07:50.955925Z",
     "iopub.status.idle": "2024-11-13T08:07:52.590909Z",
     "shell.execute_reply": "2024-11-13T08:07:52.590099Z",
     "shell.execute_reply.started": "2024-11-13T08:07:50.956298Z"
    },
    "tags": []
   },
   "outputs": [],
   "source": [
    "scaler_y = StandardScaler()\n",
    "scaler_y.fit(np.array(train_raw[y_vars]))\n",
    "scaler_X = StandardScaler()\n",
    "scaler_X.fit(np.array(train_raw[X_vars]))\n",
    "\n",
    "X_train_df = pd.DataFrame(scaler_X.transform(np.array(train_raw[X_vars])), columns=X_vars)\n",
    "X_val_df = pd.DataFrame(scaler_X.transform(np.array(val_raw[X_vars])), columns=X_vars)\n",
    "X_test_df = pd.DataFrame(scaler_X.transform(np.array(test_raw[X_vars])), columns=X_vars)\n",
    "\n",
    "y_train_df = pd.DataFrame(scaler_y.transform(np.array(train_raw[y_vars])), columns=y_vars)\n",
    "y_val_df = pd.DataFrame(scaler_y.transform(np.array(val_raw[y_vars])), columns=y_vars)\n",
    "y_test_df = pd.DataFrame(scaler_y.transform(np.array(test_raw[y_vars])), columns=y_vars)"
   ]
  },
  {
   "cell_type": "code",
   "execution_count": 7,
   "id": "5c01e74f-af07-4711-b199-3d22df2bc8dc",
   "metadata": {
    "execution": {
     "iopub.execute_input": "2024-11-13T08:07:52.592444Z",
     "iopub.status.busy": "2024-11-13T08:07:52.591934Z",
     "iopub.status.idle": "2024-11-13T08:07:52.606957Z",
     "shell.execute_reply": "2024-11-13T08:07:52.606203Z",
     "shell.execute_reply.started": "2024-11-13T08:07:52.592408Z"
    },
    "tags": []
   },
   "outputs": [],
   "source": [
    "from torch.utils.data import Dataset, DataLoader\n",
    "\n",
    "\n",
    "class CustomDataset(Dataset):\n",
    "    def __init__(\n",
    "        self,\n",
    "        input_values,\n",
    "        labels,\n",
    "        transforms=None,\n",
    "    ):\n",
    "        self.input_values = torch.from_numpy(input_values).type(torch.FloatTensor)\n",
    "        self.labels = torch.from_numpy(labels).type(torch.FloatTensor)\n",
    "        self.transforms = transforms\n",
    "\n",
    "    def __len__(self):\n",
    "        return len(self.labels)\n",
    "\n",
    "    def __getitem__(self, idx):\n",
    "        if self.transforms:\n",
    "            input_value = self.transforms(self.input_values[idx])\n",
    "        else:\n",
    "            input_value = self.input_values[idx]\n",
    "        label = self.labels[idx]\n",
    "        return input_value, label"
   ]
  },
  {
   "cell_type": "code",
   "execution_count": 8,
   "id": "a673620c-3241-4103-95af-7d61f585315b",
   "metadata": {
    "execution": {
     "iopub.execute_input": "2024-11-13T08:07:52.608444Z",
     "iopub.status.busy": "2024-11-13T08:07:52.607953Z",
     "iopub.status.idle": "2024-11-13T08:07:52.725705Z",
     "shell.execute_reply": "2024-11-13T08:07:52.724927Z",
     "shell.execute_reply.started": "2024-11-13T08:07:52.608392Z"
    },
    "tags": []
   },
   "outputs": [],
   "source": [
    "train_set = CustomDataset(X_train_df.values, y_train_df.values)\n",
    "val_set = CustomDataset(X_val_df.values, y_val_df.values)\n",
    "test_set = CustomDataset(X_test_df.values, y_test_df.values)\n",
    "\n",
    "train_loader = torch.utils.data.DataLoader(\n",
    "    train_set, batch_size=1024, shuffle=True\n",
    ")\n",
    "val_loader = torch.utils.data.DataLoader(\n",
    "    val_set, batch_size=1024, shuffle=False\n",
    ")\n",
    "test_loader = torch.utils.data.DataLoader(\n",
    "    test_set, batch_size=1024, shuffle=False\n",
    ")"
   ]
  },
  {
   "cell_type": "code",
   "execution_count": 9,
   "id": "6dc6dbcb-1de9-44fc-bbb8-f72b2a4a9a98",
   "metadata": {
    "execution": {
     "iopub.execute_input": "2024-11-13T08:07:52.727078Z",
     "iopub.status.busy": "2024-11-13T08:07:52.726619Z",
     "iopub.status.idle": "2024-11-13T08:07:52.845796Z",
     "shell.execute_reply": "2024-11-13T08:07:52.844957Z",
     "shell.execute_reply.started": "2024-11-13T08:07:52.727042Z"
    },
    "tags": []
   },
   "outputs": [],
   "source": [
    "import sys\n",
    "sys.path.append('../src/')\n",
    "import torch.nn as nn\n",
    "import torch.nn.functional as F\n",
    "import sc_models\n",
    "from torchmetrics.regression import MeanSquaredError, MeanAbsoluteError"
   ]
  },
  {
   "cell_type": "code",
   "execution_count": 10,
   "id": "898d22fa-1672-439a-b6c6-70766a50857c",
   "metadata": {
    "execution": {
     "iopub.execute_input": "2024-11-13T08:07:52.848972Z",
     "iopub.status.busy": "2024-11-13T08:07:52.848332Z",
     "iopub.status.idle": "2024-11-13T08:07:52.868472Z",
     "shell.execute_reply": "2024-11-13T08:07:52.867668Z",
     "shell.execute_reply.started": "2024-11-13T08:07:52.848934Z"
    },
    "tags": []
   },
   "outputs": [],
   "source": [
    "class LModel_NF(L.LightningModule):\n",
    "    def __init__(\n",
    "            self, model, lr=1e-3,\n",
    "        ):\n",
    "        super().__init__()\n",
    "        self.model = model\n",
    "        self.criterion = nn.L1Loss()\n",
    "        self.train_acc = MeanAbsoluteError()\n",
    "        self.valid_acc = MeanAbsoluteError()\n",
    "        self.test_acc = MeanAbsoluteError()\n",
    "        self.lr = lr\n",
    "\n",
    "    def configure_optimizers(self):\n",
    "        optimizer = torch.optim.AdamW(self.model.parameters(), lr = self.lr)\n",
    "        scheduler = torch.optim.lr_scheduler.ReduceLROnPlateau(optimizer, factor = 0.1, min_lr = 1e-5)\n",
    "        return {\n",
    "            \"optimizer\": optimizer,\n",
    "            \"lr_scheduler\": {\n",
    "                \"scheduler\": scheduler,\n",
    "                \"interval\": \"epoch\",\n",
    "                \"monitor\": \"loss/val\", \n",
    "            },\n",
    "        }\n",
    "    def training_step(self, batch, batch_idx):\n",
    "        x, y = batch\n",
    "        out = -self.model.log_prob(inputs=y, context=x)\n",
    "        loss = -self.model.log_prob(inputs=y, context=x).mean()\n",
    "        self.log(\"loss/train\", loss.detach().item(), prog_bar=True)\n",
    "        return loss\n",
    "\n",
    "    def validation_step(self, batch, batch_idx):\n",
    "        x, y = batch\n",
    "        out = -self.model.log_prob(inputs=y, context=x)\n",
    "        loss = -self.model.log_prob(inputs=y, context=x).mean()\n",
    "        self.log(\"loss/val\", loss.detach().item())"
   ]
  },
  {
   "cell_type": "code",
   "execution_count": 11,
   "id": "d14614fe-20e9-4f1c-85b0-8b2d4db89237",
   "metadata": {
    "execution": {
     "iopub.execute_input": "2024-11-13T08:07:52.870731Z",
     "iopub.status.busy": "2024-11-13T08:07:52.869519Z",
     "iopub.status.idle": "2024-11-13T08:07:52.883570Z",
     "shell.execute_reply": "2024-11-13T08:07:52.882802Z",
     "shell.execute_reply.started": "2024-11-13T08:07:52.870693Z"
    },
    "tags": []
   },
   "outputs": [],
   "source": [
    "from lightning.pytorch.callbacks import ModelCheckpoint, EarlyStopping\n",
    "import warnings\n",
    "warnings.filterwarnings(\"ignore\")\n",
    "\n",
    "def create_trainer(name, max_epochs = 10):\n",
    "    torch.set_float32_matmul_precision('medium')\n",
    "    trainer = L.Trainer(\n",
    "        max_epochs=max_epochs,\n",
    "        num_sanity_val_steps=1,\n",
    "        log_every_n_steps=10,\n",
    "        enable_checkpointing = False,\n",
    "        enable_model_summary = False,\n",
    "        enable_progress_bar = False,\n",
    "        callbacks=[EarlyStopping(monitor=\"loss/val\", mode=\"min\", patience = 2)],\n",
    "    )\n",
    "    return trainer"
   ]
  },
  {
   "cell_type": "code",
   "execution_count": 12,
   "id": "53f4d1a2-58df-48ab-a01e-cbb25789179b",
   "metadata": {
    "execution": {
     "iopub.execute_input": "2024-11-13T08:07:52.885478Z",
     "iopub.status.busy": "2024-11-13T08:07:52.884692Z",
     "iopub.status.idle": "2024-11-13T08:07:53.942816Z",
     "shell.execute_reply": "2024-11-13T08:07:53.942022Z",
     "shell.execute_reply.started": "2024-11-13T08:07:52.885422Z"
    },
    "tags": []
   },
   "outputs": [],
   "source": [
    "import sc_misc\n",
    "Cos_lep_light_true, _ = sc_misc.calculate_cosine_theory(val_raw_DM[X_vars], val_raw_DM[y_vars])"
   ]
  },
  {
   "cell_type": "code",
   "execution_count": 19,
   "id": "8501f7d0-23f3-4211-b681-eab220347d94",
   "metadata": {
    "tags": []
   },
   "outputs": [
    {
     "name": "stderr",
     "output_type": "stream",
     "text": [
      "`Trainer.fit` stopped: `max_epochs=3` reached.\n",
      "[I 2024-11-12 19:30:20,593] Trial 89 finished with value: 0.2829580307006836 and parameters: {'context_size': 12, 'num_layers': 7, 'spline_layer': 70, 'spline_num_layers': 3}. Best is trial 62 with value: 0.2757568359375.\n",
      "GPU available: True (cuda), used: True\n",
      "TPU available: False, using: 0 TPU cores\n",
      "HPU available: False, using: 0 HPUs\n",
      "LOCAL_RANK: 0 - CUDA_VISIBLE_DEVICES: [0]\n",
      "`Trainer.fit` stopped: `max_epochs=3` reached.\n",
      "[I 2024-11-12 19:37:41,595] Trial 90 finished with value: 0.28401580452919006 and parameters: {'context_size': 10, 'num_layers': 7, 'spline_layer': 109, 'spline_num_layers': 3}. Best is trial 62 with value: 0.2757568359375.\n",
      "GPU available: True (cuda), used: True\n",
      "TPU available: False, using: 0 TPU cores\n",
      "HPU available: False, using: 0 HPUs\n",
      "LOCAL_RANK: 0 - CUDA_VISIBLE_DEVICES: [0]\n",
      "`Trainer.fit` stopped: `max_epochs=3` reached.\n",
      "[I 2024-11-12 19:45:14,304] Trial 91 finished with value: 0.285244882106781 and parameters: {'context_size': 11, 'num_layers': 7, 'spline_layer': 61, 'spline_num_layers': 5}. Best is trial 62 with value: 0.2757568359375.\n",
      "GPU available: True (cuda), used: True\n",
      "TPU available: False, using: 0 TPU cores\n",
      "HPU available: False, using: 0 HPUs\n",
      "LOCAL_RANK: 0 - CUDA_VISIBLE_DEVICES: [0]\n",
      "`Trainer.fit` stopped: `max_epochs=3` reached.\n",
      "[I 2024-11-12 19:52:29,640] Trial 92 finished with value: 0.28126969933509827 and parameters: {'context_size': 9, 'num_layers': 7, 'spline_layer': 124, 'spline_num_layers': 3}. Best is trial 62 with value: 0.2757568359375.\n",
      "GPU available: True (cuda), used: True\n",
      "TPU available: False, using: 0 TPU cores\n",
      "HPU available: False, using: 0 HPUs\n",
      "LOCAL_RANK: 0 - CUDA_VISIBLE_DEVICES: [0]\n",
      "`Trainer.fit` stopped: `max_epochs=3` reached.\n",
      "[I 2024-11-12 19:59:45,138] Trial 93 finished with value: 0.2825407385826111 and parameters: {'context_size': 17, 'num_layers': 7, 'spline_layer': 105, 'spline_num_layers': 3}. Best is trial 62 with value: 0.2757568359375.\n",
      "GPU available: True (cuda), used: True\n",
      "TPU available: False, using: 0 TPU cores\n",
      "HPU available: False, using: 0 HPUs\n",
      "LOCAL_RANK: 0 - CUDA_VISIBLE_DEVICES: [0]\n",
      "`Trainer.fit` stopped: `max_epochs=3` reached.\n",
      "[I 2024-11-12 20:07:09,861] Trial 94 finished with value: 0.28335630893707275 and parameters: {'context_size': 13, 'num_layers': 7, 'spline_layer': 115, 'spline_num_layers': 3}. Best is trial 62 with value: 0.2757568359375.\n",
      "GPU available: True (cuda), used: True\n",
      "TPU available: False, using: 0 TPU cores\n",
      "HPU available: False, using: 0 HPUs\n",
      "LOCAL_RANK: 0 - CUDA_VISIBLE_DEVICES: [0]\n",
      "`Trainer.fit` stopped: `max_epochs=3` reached.\n",
      "[I 2024-11-12 20:15:25,162] Trial 95 finished with value: 0.2791362702846527 and parameters: {'context_size': 16, 'num_layers': 7, 'spline_layer': 154, 'spline_num_layers': 5}. Best is trial 62 with value: 0.2757568359375.\n",
      "GPU available: True (cuda), used: True\n",
      "TPU available: False, using: 0 TPU cores\n",
      "HPU available: False, using: 0 HPUs\n",
      "LOCAL_RANK: 0 - CUDA_VISIBLE_DEVICES: [0]\n",
      "`Trainer.fit` stopped: `max_epochs=3` reached.\n",
      "[I 2024-11-12 20:22:47,486] Trial 96 finished with value: 0.28361138701438904 and parameters: {'context_size': 15, 'num_layers': 7, 'spline_layer': 100, 'spline_num_layers': 3}. Best is trial 62 with value: 0.2757568359375.\n",
      "GPU available: True (cuda), used: True\n",
      "TPU available: False, using: 0 TPU cores\n",
      "HPU available: False, using: 0 HPUs\n",
      "LOCAL_RANK: 0 - CUDA_VISIBLE_DEVICES: [0]\n",
      "`Trainer.fit` stopped: `max_epochs=3` reached.\n",
      "[I 2024-11-12 20:30:57,214] Trial 97 finished with value: 0.27805855870246887 and parameters: {'context_size': 20, 'num_layers': 7, 'spline_layer': 155, 'spline_num_layers': 5}. Best is trial 62 with value: 0.2757568359375.\n",
      "GPU available: True (cuda), used: True\n",
      "TPU available: False, using: 0 TPU cores\n",
      "HPU available: False, using: 0 HPUs\n",
      "LOCAL_RANK: 0 - CUDA_VISIBLE_DEVICES: [0]\n",
      "`Trainer.fit` stopped: `max_epochs=3` reached.\n",
      "[I 2024-11-12 20:39:11,832] Trial 98 finished with value: 0.2833990156650543 and parameters: {'context_size': 28, 'num_layers': 7, 'spline_layer': 153, 'spline_num_layers': 5}. Best is trial 62 with value: 0.2757568359375.\n",
      "GPU available: True (cuda), used: True\n",
      "TPU available: False, using: 0 TPU cores\n",
      "HPU available: False, using: 0 HPUs\n",
      "LOCAL_RANK: 0 - CUDA_VISIBLE_DEVICES: [0]\n",
      "`Trainer.fit` stopped: `max_epochs=3` reached.\n",
      "[I 2024-11-12 20:47:50,794] Trial 99 finished with value: 0.28447243571281433 and parameters: {'context_size': 24, 'num_layers': 7, 'spline_layer': 184, 'spline_num_layers': 5}. Best is trial 62 with value: 0.2757568359375.\n"
     ]
    }
   ],
   "source": [
    "import optuna\n",
    "from torchmetrics.regression import MeanAbsoluteError\n",
    "\n",
    "X_val_DM = pd.DataFrame(scaler_X.transform(np.array(val_raw_DM[X_vars])), columns=X_vars)\n",
    "mean_absolute_error = MeanAbsoluteError()\n",
    "def objective(trial):\n",
    "    _context_size = trial.suggest_int('context_size', 8, 64)\n",
    "    _num_layers = trial.suggest_int('num_layers', 3, 7)\n",
    "    _spline_layer = trial.suggest_int('spline_layer', 32, 256)\n",
    "    _spline_num_layers = trial.suggest_int('spline_num_layers', 2, 5)\n",
    "    \n",
    "    nu_flow = sc_models.Nu_flow(encoder = sc_models.DeepSet(len(X_vars), _context_size), target_size = len(y_vars), \n",
    "                            masking_order = [1, 1, -1, 1, 1, -1],  # masking is done for (x,y) <-> z for neutrino and mediator\n",
    "                            num_layers = _num_layers, context_size = _context_size, spline_conf = (_spline_layer, _spline_num_layers, 0.1))\n",
    "    \n",
    "    pl_model_nu_flow = LModel_NF(nu_flow)\n",
    "    trainer = create_trainer(\"nu_flow\", max_epochs = 3)\n",
    "    trainer.fit(\n",
    "        model=pl_model_nu_flow,\n",
    "        train_dataloaders=train_loader,\n",
    "        val_dataloaders=val_loader\n",
    "    )\n",
    "    \n",
    "    with torch.no_grad():\n",
    "        pred_nuflows, _= torch.median(nu_flow.sample(num_samples = 5, context=torch.tensor(X_val_DM.values, dtype = torch.float32)), 1)\n",
    "        pred_nuflows = scaler_y.inverse_transform(pred_nuflows)\n",
    "    Cos_lep_light_mixed_DM, _ = sc_misc.calculate_cosine(pred_nuflows, val_raw_DM[X_vars])\n",
    "                                    \n",
    "    return mean_absolute_error(torch.tensor(Cos_lep_light_mixed_DM), torch.tensor(Cos_lep_light_true))\n",
    "\n",
    "study = optuna.create_study()\n",
    "study.optimize(objective, n_trials=100)"
   ]
  },
  {
   "cell_type": "code",
   "execution_count": 20,
   "id": "41cfa24e-1b58-4ded-8372-8a8ccaffc55c",
   "metadata": {
    "tags": []
   },
   "outputs": [
    {
     "data": {
      "text/plain": [
       "{'context_size': 19,\n",
       " 'num_layers': 7,\n",
       " 'spline_layer': 108,\n",
       " 'spline_num_layers': 3}"
      ]
     },
     "execution_count": 20,
     "metadata": {},
     "output_type": "execute_result"
    }
   ],
   "source": [
    "study.best_params"
   ]
  },
  {
   "cell_type": "code",
   "execution_count": 21,
   "id": "6bc7b28c-303e-4fac-81d4-73ef2ecb62e9",
   "metadata": {},
   "outputs": [
    {
     "data": {
      "text/html": [
       "<div>\n",
       "<style scoped>\n",
       "    .dataframe tbody tr th:only-of-type {\n",
       "        vertical-align: middle;\n",
       "    }\n",
       "\n",
       "    .dataframe tbody tr th {\n",
       "        vertical-align: top;\n",
       "    }\n",
       "\n",
       "    .dataframe thead th {\n",
       "        text-align: right;\n",
       "    }\n",
       "</style>\n",
       "<table border=\"1\" class=\"dataframe\">\n",
       "  <thead>\n",
       "    <tr style=\"text-align: right;\">\n",
       "      <th></th>\n",
       "      <th>number</th>\n",
       "      <th>value</th>\n",
       "      <th>datetime_start</th>\n",
       "      <th>datetime_complete</th>\n",
       "      <th>duration</th>\n",
       "      <th>params_context_size</th>\n",
       "      <th>params_num_layers</th>\n",
       "      <th>params_spline_layer</th>\n",
       "      <th>params_spline_num_layers</th>\n",
       "      <th>state</th>\n",
       "    </tr>\n",
       "  </thead>\n",
       "  <tbody>\n",
       "    <tr>\n",
       "      <th>0</th>\n",
       "      <td>0</td>\n",
       "      <td>0.284137</td>\n",
       "      <td>2024-11-12 09:15:42.045324</td>\n",
       "      <td>2024-11-12 09:22:10.953224</td>\n",
       "      <td>0 days 00:06:28.907900</td>\n",
       "      <td>42</td>\n",
       "      <td>6</td>\n",
       "      <td>32</td>\n",
       "      <td>4</td>\n",
       "      <td>COMPLETE</td>\n",
       "    </tr>\n",
       "    <tr>\n",
       "      <th>1</th>\n",
       "      <td>1</td>\n",
       "      <td>0.282535</td>\n",
       "      <td>2024-11-12 09:22:10.954358</td>\n",
       "      <td>2024-11-12 09:25:48.941999</td>\n",
       "      <td>0 days 00:03:37.987641</td>\n",
       "      <td>30</td>\n",
       "      <td>3</td>\n",
       "      <td>48</td>\n",
       "      <td>3</td>\n",
       "      <td>COMPLETE</td>\n",
       "    </tr>\n",
       "    <tr>\n",
       "      <th>2</th>\n",
       "      <td>2</td>\n",
       "      <td>0.282604</td>\n",
       "      <td>2024-11-12 09:25:48.943091</td>\n",
       "      <td>2024-11-12 09:30:45.301639</td>\n",
       "      <td>0 days 00:04:56.358548</td>\n",
       "      <td>35</td>\n",
       "      <td>4</td>\n",
       "      <td>202</td>\n",
       "      <td>3</td>\n",
       "      <td>COMPLETE</td>\n",
       "    </tr>\n",
       "    <tr>\n",
       "      <th>3</th>\n",
       "      <td>3</td>\n",
       "      <td>0.285604</td>\n",
       "      <td>2024-11-12 09:30:45.302917</td>\n",
       "      <td>2024-11-12 09:34:55.472924</td>\n",
       "      <td>0 days 00:04:10.170007</td>\n",
       "      <td>58</td>\n",
       "      <td>3</td>\n",
       "      <td>214</td>\n",
       "      <td>4</td>\n",
       "      <td>COMPLETE</td>\n",
       "    </tr>\n",
       "    <tr>\n",
       "      <th>4</th>\n",
       "      <td>4</td>\n",
       "      <td>0.282965</td>\n",
       "      <td>2024-11-12 09:34:55.473988</td>\n",
       "      <td>2024-11-12 09:40:45.921750</td>\n",
       "      <td>0 days 00:05:50.447762</td>\n",
       "      <td>24</td>\n",
       "      <td>5</td>\n",
       "      <td>150</td>\n",
       "      <td>3</td>\n",
       "      <td>COMPLETE</td>\n",
       "    </tr>\n",
       "    <tr>\n",
       "      <th>...</th>\n",
       "      <td>...</td>\n",
       "      <td>...</td>\n",
       "      <td>...</td>\n",
       "      <td>...</td>\n",
       "      <td>...</td>\n",
       "      <td>...</td>\n",
       "      <td>...</td>\n",
       "      <td>...</td>\n",
       "      <td>...</td>\n",
       "      <td>...</td>\n",
       "    </tr>\n",
       "    <tr>\n",
       "      <th>95</th>\n",
       "      <td>95</td>\n",
       "      <td>0.279136</td>\n",
       "      <td>2024-11-12 20:07:09.862095</td>\n",
       "      <td>2024-11-12 20:15:25.162229</td>\n",
       "      <td>0 days 00:08:15.300134</td>\n",
       "      <td>16</td>\n",
       "      <td>7</td>\n",
       "      <td>154</td>\n",
       "      <td>5</td>\n",
       "      <td>COMPLETE</td>\n",
       "    </tr>\n",
       "    <tr>\n",
       "      <th>96</th>\n",
       "      <td>96</td>\n",
       "      <td>0.283611</td>\n",
       "      <td>2024-11-12 20:15:25.163501</td>\n",
       "      <td>2024-11-12 20:22:47.486641</td>\n",
       "      <td>0 days 00:07:22.323140</td>\n",
       "      <td>15</td>\n",
       "      <td>7</td>\n",
       "      <td>100</td>\n",
       "      <td>3</td>\n",
       "      <td>COMPLETE</td>\n",
       "    </tr>\n",
       "    <tr>\n",
       "      <th>97</th>\n",
       "      <td>97</td>\n",
       "      <td>0.278059</td>\n",
       "      <td>2024-11-12 20:22:47.487733</td>\n",
       "      <td>2024-11-12 20:30:57.213981</td>\n",
       "      <td>0 days 00:08:09.726248</td>\n",
       "      <td>20</td>\n",
       "      <td>7</td>\n",
       "      <td>155</td>\n",
       "      <td>5</td>\n",
       "      <td>COMPLETE</td>\n",
       "    </tr>\n",
       "    <tr>\n",
       "      <th>98</th>\n",
       "      <td>98</td>\n",
       "      <td>0.283399</td>\n",
       "      <td>2024-11-12 20:30:57.214937</td>\n",
       "      <td>2024-11-12 20:39:11.831944</td>\n",
       "      <td>0 days 00:08:14.617007</td>\n",
       "      <td>28</td>\n",
       "      <td>7</td>\n",
       "      <td>153</td>\n",
       "      <td>5</td>\n",
       "      <td>COMPLETE</td>\n",
       "    </tr>\n",
       "    <tr>\n",
       "      <th>99</th>\n",
       "      <td>99</td>\n",
       "      <td>0.284472</td>\n",
       "      <td>2024-11-12 20:39:11.832974</td>\n",
       "      <td>2024-11-12 20:47:50.794027</td>\n",
       "      <td>0 days 00:08:38.961053</td>\n",
       "      <td>24</td>\n",
       "      <td>7</td>\n",
       "      <td>184</td>\n",
       "      <td>5</td>\n",
       "      <td>COMPLETE</td>\n",
       "    </tr>\n",
       "  </tbody>\n",
       "</table>\n",
       "<p>100 rows × 10 columns</p>\n",
       "</div>"
      ],
      "text/plain": [
       "    number     value  ... params_spline_num_layers     state\n",
       "0        0  0.284137  ...                        4  COMPLETE\n",
       "1        1  0.282535  ...                        3  COMPLETE\n",
       "2        2  0.282604  ...                        3  COMPLETE\n",
       "3        3  0.285604  ...                        4  COMPLETE\n",
       "4        4  0.282965  ...                        3  COMPLETE\n",
       "..     ...       ...  ...                      ...       ...\n",
       "95      95  0.279136  ...                        5  COMPLETE\n",
       "96      96  0.283611  ...                        3  COMPLETE\n",
       "97      97  0.278059  ...                        5  COMPLETE\n",
       "98      98  0.283399  ...                        5  COMPLETE\n",
       "99      99  0.284472  ...                        5  COMPLETE\n",
       "\n",
       "[100 rows x 10 columns]"
      ]
     },
     "execution_count": 21,
     "metadata": {},
     "output_type": "execute_result"
    }
   ],
   "source": [
    "trials_df = study.trials_dataframe()\n",
    "trials_df"
   ]
  },
  {
   "cell_type": "code",
   "execution_count": 22,
   "id": "011e6c01-a47a-4758-b518-403fa6690aed",
   "metadata": {},
   "outputs": [],
   "source": [
    "trials_df.to_csv(\"tuning.csv\")"
   ]
  }
 ],
 "metadata": {
  "kernelspec": {
   "display_name": "DataSphere Kernel",
   "language": "python",
   "name": "python3"
  },
  "language_info": {
   "codemirror_mode": {
    "name": "ipython",
    "version": 3
   },
   "file_extension": ".py",
   "mimetype": "text/x-python",
   "name": "python",
   "nbconvert_exporter": "python",
   "pygments_lexer": "ipython3",
   "version": "3.10.12"
  }
 },
 "nbformat": 4,
 "nbformat_minor": 5
}
